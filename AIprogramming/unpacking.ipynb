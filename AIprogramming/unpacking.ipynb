{
 "cells": [
  {
   "cell_type": "code",
   "execution_count": 2,
   "metadata": {},
   "outputs": [
    {
     "name": "stdout",
     "output_type": "stream",
     "text": [
      "10\n",
      "20\n",
      "30\n"
     ]
    }
   ],
   "source": [
    "def print_num(a,b,c):\n",
    "    print(a)\n",
    "    print(b)\n",
    "    print(c)\n",
    "\n",
    "nums = [10,20,30]\n",
    "print_num(*nums)"
   ]
  },
  {
   "cell_type": "code",
   "execution_count": 3,
   "metadata": {},
   "outputs": [
    {
     "name": "stdout",
     "output_type": "stream",
     "text": [
      "10\n",
      "20\n",
      "30\n",
      "1\n",
      "2\n",
      "3\n",
      "4\n",
      "5\n"
     ]
    }
   ],
   "source": [
    "def print_num(*args):\n",
    "    for arg in args:\n",
    "        print(arg)\n",
    "\n",
    "nums = [10,20,30]\n",
    "\n",
    "#print_num(num[0], num[1], num[2])\n",
    "print_num(*nums)\n",
    "print_num(*(1,2,3,4,5))"
   ]
  },
  {
   "cell_type": "code",
   "execution_count": 7,
   "metadata": {},
   "outputs": [
    {
     "name": "stdout",
     "output_type": "stream",
     "text": [
      "BH\n",
      "31\n",
      "Busan\n",
      "BH\n",
      "31\n",
      "Busan\n"
     ]
    }
   ],
   "source": [
    "def personal_info(name, age, address):\n",
    "    print(name)\n",
    "    print(age)\n",
    "    print(address)\n",
    "\n",
    "data = {'name':'BH', 'age': 31, 'address':'Busan'}\n",
    "\n",
    "personal_info(name=data['name'],\n",
    "              age = data['age'],\n",
    "              address = data['address'])\n",
    "\n",
    "personal_info(**data)"
   ]
  },
  {
   "cell_type": "code",
   "execution_count": 9,
   "metadata": {},
   "outputs": [
    {
     "name": "stdout",
     "output_type": "stream",
     "text": [
      "name: BH\n",
      "age: 31\n",
      "address: Busan\n"
     ]
    }
   ],
   "source": [
    "def personal_info(**kwargs):\n",
    "    for k,v in kwargs.items():\n",
    "        print(f'{k}: {v}')\n",
    "\n",
    "data = {'name':'BH', 'age': 31, 'address':'Busan'}\n",
    "personal_info(**data)"
   ]
  },
  {
   "cell_type": "code",
   "execution_count": 12,
   "metadata": {},
   "outputs": [
    {
     "name": "stdout",
     "output_type": "stream",
     "text": [
      "hello\n",
      "Jinsun's Exception\n"
     ]
    }
   ],
   "source": [
    "class JSException(Exception):\n",
    "    def __init__(self):\n",
    "        super().__init__(\"Jinsun's Exception\")\n",
    "\n",
    "    def main():\n",
    "        try:\n",
    "            print(\"hello\")  \n",
    "            raise JSException\n",
    "        except JSException as e:\n",
    "            print(e)\n",
    "    \n",
    "    main()"
   ]
  },
  {
   "cell_type": "code",
   "execution_count": 14,
   "metadata": {},
   "outputs": [
    {
     "name": "stdout",
     "output_type": "stream",
     "text": [
      "func1\n"
     ]
    },
    {
     "ename": "ZeroDivisionError",
     "evalue": "",
     "output_type": "error",
     "traceback": [
      "\u001b[1;31m---------------------------------------------------------------------------\u001b[0m",
      "\u001b[1;31mZeroDivisionError\u001b[0m                         Traceback (most recent call last)",
      "Cell \u001b[1;32mIn[14], line 22\u001b[0m\n\u001b[0;32m     19\u001b[0m     \u001b[39mexcept\u001b[39;00m \u001b[39mException\u001b[39;00m \u001b[39mas\u001b[39;00m e:\n\u001b[0;32m     20\u001b[0m         \u001b[39mprint\u001b[39m(e)\n\u001b[1;32m---> 22\u001b[0m main()\n",
      "Cell \u001b[1;32mIn[14], line 16\u001b[0m, in \u001b[0;36mmain\u001b[1;34m()\u001b[0m\n\u001b[0;32m     15\u001b[0m \u001b[39mdef\u001b[39;00m \u001b[39mmain\u001b[39m():\n\u001b[1;32m---> 16\u001b[0m     func1()\n\u001b[0;32m     17\u001b[0m     \u001b[39mtry\u001b[39;00m:\n\u001b[0;32m     18\u001b[0m         func2()\n",
      "Cell \u001b[1;32mIn[14], line 4\u001b[0m, in \u001b[0;36mfunc1\u001b[1;34m()\u001b[0m\n\u001b[0;32m      2\u001b[0m \u001b[39mtry\u001b[39;00m:\n\u001b[0;32m      3\u001b[0m     \u001b[39mprint\u001b[39m(\u001b[39m'\u001b[39m\u001b[39mfunc1\u001b[39m\u001b[39m'\u001b[39m)\n\u001b[1;32m----> 4\u001b[0m     \u001b[39mraise\u001b[39;00m \u001b[39mZeroDivisionError\u001b[39;00m\n\u001b[0;32m      5\u001b[0m \u001b[39mexcept\u001b[39;00m \u001b[39mAttributeError\u001b[39;00m \u001b[39mas\u001b[39;00m e:\n\u001b[0;32m      6\u001b[0m     \u001b[39mprint\u001b[39m(e)\n",
      "\u001b[1;31mZeroDivisionError\u001b[0m: "
     ]
    }
   ],
   "source": [
    "def func1():\n",
    "    try:\n",
    "        print('func1')\n",
    "        raise ZeroDivisionError\n",
    "    except AttributeError as e:\n",
    "        print(e)\n",
    "\n",
    "def func2():\n",
    "    try:\n",
    "        print('func2')\n",
    "        func1()\n",
    "    except ZeroDivisionError as e:\n",
    "        print(e)\n",
    "\n",
    "def main():\n",
    "    func1()\n",
    "    try:\n",
    "        func2()\n",
    "    except Exception as e:\n",
    "        print(e)\n",
    "\n",
    "main()\n"
   ]
  }
 ],
 "metadata": {
  "kernelspec": {
   "display_name": "Python 3",
   "language": "python",
   "name": "python3"
  },
  "language_info": {
   "codemirror_mode": {
    "name": "ipython",
    "version": 3
   },
   "file_extension": ".py",
   "mimetype": "text/x-python",
   "name": "python",
   "nbconvert_exporter": "python",
   "pygments_lexer": "ipython3",
   "version": "3.11.3"
  },
  "orig_nbformat": 4
 },
 "nbformat": 4,
 "nbformat_minor": 2
}
