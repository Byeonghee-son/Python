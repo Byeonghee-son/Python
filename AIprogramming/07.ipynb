{
 "cells": [
  {
   "cell_type": "code",
   "execution_count": null,
   "metadata": {},
   "outputs": [],
   "source": [
    "class Rectangle:\n",
    "    def __init__(self, width = 1, height = 1):\n",
    "        self._width = width\n",
    "        self._height = height\n",
    "    \n",
    "    def setWidth(self, width):\n",
    "        self._width = width\n",
    "    \n",
    "    def setHeight(self, height):\n",
    "        self._height = height\n",
    "    \n",
    "    def getWidth(self): \n",
    "        return self._width\n",
    "    \n",
    "    def getHeight(self):\n",
    "        return self._height\n",
    "    \n",
    "    def area(self):\n",
    "        return self._width * self._height\n",
    "\n",
    "    def perimeter(self):\n",
    "        return 2* (self._width + self._height)\n",
    "    \n",
    "    def __str__(self):\n",
    "        return (\"Width: \" + str(self._width) +\n",
    "                 \"\\nHeight :\" + str(self._height))\n"
   ]
  }
 ],
 "metadata": {
  "language_info": {
   "name": "python"
  },
  "orig_nbformat": 4
 },
 "nbformat": 4,
 "nbformat_minor": 2
}
