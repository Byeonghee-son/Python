{
 "cells": [
  {
   "cell_type": "code",
   "execution_count": null,
   "metadata": {},
   "outputs": [
    {
     "name": "stdout",
     "output_type": "stream",
     "text": [
      "Help on function simple_f in module __main__:\n",
      "\n",
      "simple_f()\n",
      "\n"
     ]
    }
   ],
   "source": [
    "def simple_f():\n",
    "    pass\n",
    "help(simple_f)"
   ]
  },
  {
   "cell_type": "code",
   "execution_count": null,
   "metadata": {},
   "outputs": [
    {
     "name": "stdout",
     "output_type": "stream",
     "text": [
      "Sorted by length in ascending order: \n",
      "['two', 'brrr', 'break', 'equals', 'sequoia', 'democratic'] \n",
      "\n",
      "Sorted by number of vowels in descending order: \n",
      "['sequoia', 'democratic', 'equals', 'break', 'two', 'brrr']\n"
     ]
    }
   ],
   "source": [
    "def main():\n",
    "    list1 = [\"democratic\",\"sequoia\",\"equals\",\"brrr\",\"break\",\"two\"]\n",
    "    list1.sort(key=len)\n",
    "    print(\"Sorted by length in ascending order: \")\n",
    "    print(list1, '\\n')\n",
    "    list1.sort(key=numberOfVowels, reverse=True)\n",
    "    print(\"Sorted by number of vowels in descending order: \")\n",
    "    print(list1)\n",
    "\n",
    "def numberOfVowels(word):\n",
    "    vowels = ('a','e','i','o','u')\n",
    "    total = 0\n",
    "    for vowel in vowels:\n",
    "        total += word.count(vowel)\n",
    "    return total\n",
    "\n",
    "main()"
   ]
  },
  {
   "cell_type": "code",
   "execution_count": null,
   "metadata": {},
   "outputs": [
    {
     "name": "stdout",
     "output_type": "stream",
     "text": [
      "['blue', 'red', 'white']\n",
      "['white', 'red', 'blue']\n",
      "['red', 'blue', 'white']\n",
      "['white', 'blue', 'red']\n",
      "['a', 'm', 'p', 's']\n"
     ]
    }
   ],
   "source": [
    "list1 = ['white', 'blue', 'red']\n",
    "list2 = sorted(list1)\n",
    "print(list2)\n",
    "print(sorted(list1, reverse=True))\n",
    "print(sorted(list1, key=len))\n",
    "print(list1)\n",
    "print(sorted('spam'))"
   ]
  },
  {
   "cell_type": "code",
   "execution_count": null,
   "metadata": {},
   "outputs": [
    {
     "data": {
      "text/plain": [
       "[4, 25, 36, 49]"
      ]
     },
     "execution_count": 4,
     "metadata": {},
     "output_type": "execute_result"
    }
   ],
   "source": [
    "list1 = ['2','5','6','7']\n",
    "[int(x) for x in list1]\n",
    "def g(x):\n",
    "    return(int(x)**2)\n",
    "[g(x) for x in list1]\n"
   ]
  },
  {
   "cell_type": "code",
   "execution_count": null,
   "metadata": {},
   "outputs": [],
   "source": [
    "s1 = input(\"enter a string : \")\n",
    "s2 = input(\"enter a find string : \")\n",
    "def count():\n",
    "    num = s1.find(s2)\n",
    "    return num"
   ]
  },
  {
   "cell_type": "code",
   "execution_count": 15,
   "metadata": {},
   "outputs": [
    {
     "data": {
      "text/plain": [
       "5"
      ]
     },
     "execution_count": 15,
     "metadata": {},
     "output_type": "execute_result"
    }
   ],
   "source": [
    "def count_substring(string, substring):\n",
    "    count = 0\n",
    "    start = 0\n",
    "\n",
    "    while True:\n",
    "        # Find the next occurrence of the substring\n",
    "        index = string.find(substring, start)\n",
    "\n",
    "        # If no further occurrence is found, exit the loop\n",
    "        if index == -1:\n",
    "            break\n",
    "\n",
    "        # Update the count and move the start position\n",
    "        count += 1\n",
    "        start = index + len(substring)\n",
    "\n",
    "    return count\n",
    "count_substring('abcabababab','a')\n",
    "\n"
   ]
  },
  {
   "cell_type": "code",
   "execution_count": 8,
   "metadata": {},
   "outputs": [
    {
     "name": "stdout",
     "output_type": "stream",
     "text": [
      "next_salary is  50160.0\n"
     ]
    }
   ],
   "source": [
    "def next_salary():\n",
    "    current_salary = eval(input(\"Enter a current salary : \"))\n",
    "    nsal = current_salary\n",
    "    if current_salary < 40000:\n",
    "        nsal = current_salary * 1.05  \n",
    "    else:\n",
    "        nsal = current_salary+2000+(current_salary-40000)*0.02\n",
    "    print(\"next_salary is \", nsal)\n",
    "    return nsal\n",
    "\n",
    "next_salary()"
   ]
  },
  {
   "cell_type": "code",
   "execution_count": null,
   "metadata": {},
   "outputs": [],
   "source": [
    "def displayWithForLoop(file):\n",
    "    infile = open(file,'r')\n",
    "    # for line in infile:\n",
    "    #     print(line.rstrip())\n",
    "    linePres = [line.rstrip() for line in infile]\n",
    "    infile.close()"
   ]
  },
  {
   "cell_type": "code",
   "execution_count": 16,
   "metadata": {},
   "outputs": [
    {
     "ename": "TypeError",
     "evalue": "createWithWritelines() takes 1 positional argument but 2 were given",
     "output_type": "error",
     "traceback": [
      "\u001b[1;31m---------------------------------------------------------------------------\u001b[0m",
      "\u001b[1;31mTypeError\u001b[0m                                 Traceback (most recent call last)",
      "Cell \u001b[1;32mIn[16], line 18\u001b[0m\n\u001b[0;32m     16\u001b[0m     outfile\u001b[39m.\u001b[39mwritelines(L)\n\u001b[0;32m     17\u001b[0m     outfile\u001b[39m.\u001b[39mclose()\n\u001b[1;32m---> 18\u001b[0m main()\n",
      "Cell \u001b[1;32mIn[16], line 6\u001b[0m, in \u001b[0;36mmain\u001b[1;34m()\u001b[0m\n\u001b[0;32m      4\u001b[0m createWithWrite(L,outfile)\n\u001b[0;32m      5\u001b[0m outfile \u001b[39m=\u001b[39m \u001b[39mopen\u001b[39m(\u001b[39m\"\u001b[39m\u001b[39mFirstPresidents3.txt\u001b[39m\u001b[39m\"\u001b[39m,\u001b[39m\"\u001b[39m\u001b[39mw\u001b[39m\u001b[39m\"\u001b[39m)\n\u001b[1;32m----> 6\u001b[0m createWithWritelines(L,outfile)\n",
      "\u001b[1;31mTypeError\u001b[0m: createWithWritelines() takes 1 positional argument but 2 were given"
     ]
    }
   ],
   "source": [
    "def main():\n",
    "    L = [\"George Washington\",\"John Adams\",\"Thomas Jefferson\"]\n",
    "    outfile = open(\"FirstPresident2.txt\", 'w')\n",
    "    createWithWrite(L,outfile)\n",
    "    outfile = open(\"FirstPresidents3.txt\",\"w\")\n",
    "    createWithWritelines(L,outfile)\n",
    "\n",
    "def createWithWrite(L, outfile):\n",
    "    for i in range(len(L)):\n",
    "        outfile.write(L[i] + \"\\n\")\n",
    "    outfile.close()\n",
    "\n",
    "def createWithWritelines(outfile):\n",
    "    for i in range(len(L)):\n",
    "        L[i] = L[i] + \"\\n\"\n",
    "    outfile.writelines(L)\n",
    "    outfile.close()\n",
    "main()"
   ]
  },
  {
   "cell_type": "code",
   "execution_count": 17,
   "metadata": {},
   "outputs": [
    {
     "name": "stdout",
     "output_type": "stream",
     "text": [
      "{'wink', 'nudge'}\n"
     ]
    },
    {
     "data": {
      "text/plain": [
       "set()"
      ]
     },
     "execution_count": 17,
     "metadata": {},
     "output_type": "execute_result"
    }
   ],
   "source": [
    "words = ['nudge','nudge','wink','wink']\n",
    "tuple(words)\n",
    "terms=set(words)\n",
    "print(terms)\n",
    "list(terms)\n",
    "tuple(terms)\n",
    "alpha = ('a','b','c')\n",
    "set(alpha)\n",
    "terms.clear()\n",
    "terms"
   ]
  },
  {
   "cell_type": "code",
   "execution_count": 32,
   "metadata": {},
   "outputs": [
    {
     "data": {
      "text/plain": [
       "['russia', 'brazil', 'india', 'china']"
      ]
     },
     "execution_count": 32,
     "metadata": {},
     "output_type": "execute_result"
    }
   ],
   "source": [
    "bric = {'brazil','china','india','russia'}\n",
    "\n",
    "\n",
    "sorted(bric, key=len, reverse=True)\n"
   ]
  },
  {
   "cell_type": "code",
   "execution_count": 35,
   "metadata": {},
   "outputs": [
    {
     "name": "stdout",
     "output_type": "stream",
     "text": [
      "btc:30400\n",
      "eth:1900\n",
      "bnb:245\n",
      "bch:280\n",
      "30400\n",
      "1900\n",
      "245\n",
      "280\n"
     ]
    }
   ],
   "source": [
    "dic = {\n",
    "    'btc':30400,\n",
    "    'eth':1900,\n",
    "    'bnb':245,\n",
    "    'bch':280\n",
    "}\n",
    "\n",
    "for key, values in dic.items():\n",
    "    print(f'{key}:{values}')\n",
    "\n",
    "for v in dic.values():\n",
    "    print(v)"
   ]
  },
  {
   "cell_type": "code",
   "execution_count": null,
   "metadata": {},
   "outputs": [],
   "source": []
  }
 ],
 "metadata": {
  "kernelspec": {
   "display_name": "Python 3",
   "language": "python",
   "name": "python3"
  },
  "language_info": {
   "codemirror_mode": {
    "name": "ipython",
    "version": 3
   },
   "file_extension": ".py",
   "mimetype": "text/x-python",
   "name": "python",
   "nbconvert_exporter": "python",
   "pygments_lexer": "ipython3",
   "version": "3.11.3"
  },
  "orig_nbformat": 4
 },
 "nbformat": 4,
 "nbformat_minor": 2
}
