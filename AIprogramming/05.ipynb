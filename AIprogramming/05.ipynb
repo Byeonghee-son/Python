{
 "cells": [
  {
   "cell_type": "code",
   "execution_count": 30,
   "metadata": {},
   "outputs": [
    {
     "name": "stdout",
     "output_type": "stream",
     "text": [
      "M,V,W\n",
      "['J', 'c', 'i']\n"
     ]
    }
   ],
   "source": [
    "import random\n",
    "import string\n",
    "alphabet = list('qwertyuiopasdfghjklzxcvbnmQWERTYUIOPASDFGHJKLZXCVBNM')\n",
    "alphabets = string.ascii_letters\n",
    "\n",
    "random.shuffle(alphabet)\n",
    "random_list = ','.join(alphabet[:3])\n",
    "\n",
    "random_lists = random.sample(alphabets,3) ##sample은 중복불가 choices 는 중복허용\n",
    "\n",
    "print(random_list)\n",
    "print(random_lists)\n"
   ]
  },
  {
   "cell_type": "code",
   "execution_count": 77,
   "metadata": {},
   "outputs": [
    {
     "name": "stdout",
     "output_type": "stream",
     "text": [
      "3\n"
     ]
    }
   ],
   "source": [
    "import random\n",
    "count = 0\n",
    "head = 0\n",
    "tail = 0\n",
    "for _ in range(10):\n",
    "    occur = random.random()\n",
    "    if occur <= 0.5:\n",
    "        head += 1\n",
    "    else:\n",
    "        tail += 1\n",
    "    count += 1\n",
    "print(head)"
   ]
  },
  {
   "cell_type": "code",
   "execution_count": 79,
   "metadata": {},
   "outputs": [
    {
     "name": "stdout",
     "output_type": "stream",
     "text": [
      "8\n"
     ]
    }
   ],
   "source": [
    "\n",
    "def power(r,n):\n",
    "    if n > 1:\n",
    "        return r*power(r,n-1)\n",
    "    else:\n",
    "        return r\n",
    "print(power(2,3))"
   ]
  },
  {
   "cell_type": "code",
   "execution_count": 81,
   "metadata": {},
   "outputs": [
    {
     "name": "stdout",
     "output_type": "stream",
     "text": [
      "True\n",
      "False\n",
      "True\n",
      "False\n"
     ]
    }
   ],
   "source": [
    "\n",
    "def isAlpha(L):\n",
    "    \n",
    "    for i in range(len(L) -1):\n",
    "        if L[i] > L[i+1]:\n",
    "            return False\n",
    "    return True\n",
    "def isAlphaRecursion(L):\n",
    "    if len(L) <= 1:\n",
    "        return True\n",
    "    elif L[0] <= L[1]:\n",
    "        return isAlphaRecursion(L[1:])\n",
    "    else:\n",
    "        return False\n",
    "    \n",
    "\n",
    "listwords1 = ['apple','banana','carrot']\n",
    "listwords2 = ['zebra','zero','alpha']\n",
    "\n",
    "print(isAlpha(listwords1))\n",
    "print(isAlpha(listwords2))\n",
    "\n",
    "print(isAlphaRecursion(listwords1))\n",
    "print(isAlphaRecursion(listwords2))"
   ]
  },
  {
   "cell_type": "code",
   "execution_count": 87,
   "metadata": {},
   "outputs": [
    {
     "name": "stdout",
     "output_type": "stream",
     "text": [
      "10\n",
      "11\n",
      "12\n",
      "13\n",
      "14\n",
      "15\n",
      "\n",
      "10 11 12 13 14 15 \n"
     ]
    }
   ],
   "source": [
    "def displaySequenceOfNumbers(m,n):\n",
    "    while m <= n:\n",
    "        print(m)\n",
    "        m += 1\n",
    "def displaySequenceOfNumbersRecursion(m,n):\n",
    "    if m > n:\n",
    "        return\n",
    "    elif m == n:\n",
    "        print(m, end=' ')\n",
    "    else:\n",
    "        print(m, end=' ')\n",
    "        displaySequenceOfNumbersRecursion(m+1,n)\n",
    "\n",
    "displaySequenceOfNumbers(10,15)\n",
    "print('')\n",
    "displaySequenceOfNumbersRecursion(10,15)\n",
    "print('')"
   ]
  }
 ],
 "metadata": {
  "kernelspec": {
   "display_name": "Python 3",
   "language": "python",
   "name": "python3"
  },
  "language_info": {
   "codemirror_mode": {
    "name": "ipython",
    "version": 3
   },
   "file_extension": ".py",
   "mimetype": "text/x-python",
   "name": "python",
   "nbconvert_exporter": "python",
   "pygments_lexer": "ipython3",
   "version": "3.11.3"
  },
  "orig_nbformat": 4
 },
 "nbformat": 4,
 "nbformat_minor": 2
}
