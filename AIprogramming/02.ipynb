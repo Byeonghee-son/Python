{
 "cells": [
  {
   "cell_type": "code",
   "execution_count": 11,
   "metadata": {},
   "outputs": [
    {
     "name": "stdout",
     "output_type": "stream",
     "text": [
      "Congratulations, you guessed it.\n"
     ]
    }
   ],
   "source": [
    "number = 23\n",
    "running = True\n",
    "\n",
    "while running:\n",
    "    guess = int(input(\"Enter an integer: \"))\n",
    "    if guess == number:\n",
    "        print('Congratulations, you guessed it.')\n",
    "        running = False #이렇게 바꾸면 와일문이 끝남\n",
    "        break\n",
    "    elif guess < number:\n",
    "        print('higher')\n",
    "    else:\n",
    "        print('lower')\n",
    "else: #else의 위치와 break를 주석처리하고 안하고의 차이를 깨닫자\n",
    "    print('the while loop is over')"
   ]
  },
  {
   "cell_type": "code",
   "execution_count": 10,
   "metadata": {},
   "outputs": [
    {
     "name": "stdout",
     "output_type": "stream",
     "text": [
      "(Enter -1 to terminate entering numbers.)\n",
      "Minimum:  1\n",
      "Maximum:  1\n",
      "Average:  1.0\n",
      "Minimum:  1\n",
      "Maximum:  2\n",
      "Average:  1.5\n",
      "Minimum:  1\n",
      "Maximum:  3\n",
      "Average:  2.0\n",
      "Minimum:  1\n",
      "Maximum:  4\n",
      "Average:  2.5\n",
      "카운트가 5개 이상입니다\n"
     ]
    }
   ],
   "source": [
    "count = 0\n",
    "total = 0\n",
    "\n",
    "print('(Enter -1 to terminate entering numbers.)')\n",
    "num = int(input('Enter a nonnegative integer: '))\n",
    "min = num\n",
    "max = num\n",
    "\n",
    "while num != -1:\n",
    "    count += 1\n",
    "    total += num\n",
    "    if num < min:\n",
    "        min = num\n",
    "    if num > max:\n",
    "        max = num\n",
    "    num = int(input('Enter a nonnegative integer: '))\n",
    "    if count > 0 :\n",
    "        if count >= 5:\n",
    "            print(\"카운트가 5개 이상입니다\")\n",
    "            break\n",
    "        print('Minimum: ', min)\n",
    "        print('Maximum: ', max)\n",
    "        print('Average: ', total/count)\n",
    "else:\n",
    "     print('No nonnegative integers were entered.')\n"
   ]
  },
  {
   "cell_type": "code",
   "execution_count": 17,
   "metadata": {},
   "outputs": [
    {
     "name": "stdout",
     "output_type": "stream",
     "text": [
      "*++++\n",
      "**+++\n",
      "***++\n",
      "****+\n",
      "*****\n",
      "****+\n",
      "***++\n",
      "**+++\n",
      "*++++\n",
      "+++++\n"
     ]
    }
   ],
   "source": [
    "numberOfRows = int(input('Enter a number from 1 to 20: '))\n",
    "\n",
    "for i in range(numberOfRows):\n",
    "    for j in range(i+1):\n",
    "        print('*',end='')\n",
    "    for j in range(numberOfRows - i - 1):\n",
    "        print('+',end='')\n",
    "    print()\n",
    "for i in range(numberOfRows):\n",
    "    for j in range(numberOfRows - i - 1):\n",
    "        print('*',end='')\n",
    "    for j in range(i+1):\n",
    "        print('+',end='')\n",
    "    print()"
   ]
  },
  {
   "cell_type": "code",
   "execution_count": 19,
   "metadata": {},
   "outputs": [
    {
     "name": "stdout",
     "output_type": "stream",
     "text": [
      "fdsa\n"
     ]
    }
   ],
   "source": [
    "word = input('Enter a word: ')\n",
    "reverseWord = ''\n",
    "for ch in word:\n",
    "    reverseWord = ch + reverseWord\n",
    "print('The reversed word is ' + reverseWord + '.')\n",
    "#이렇게 간단하게도 할수있음\n",
    "print(word[::-1])"
   ]
  },
  {
   "cell_type": "code",
   "execution_count": null,
   "metadata": {},
   "outputs": [],
   "source": [
    "infile = open('textfile.txt','r')\n",
    "\n",
    "for s in infile:\n",
    "    #print(s,end='')\n",
    "    print(s.rstrip())\n",
    "\n",
    "infile.close()"
   ]
  },
  {
   "cell_type": "code",
   "execution_count": 22,
   "metadata": {},
   "outputs": [
    {
     "name": "stdout",
     "output_type": "stream",
     "text": [
      "Input is of sufficient length\n",
      "Input is of sufficient length\n",
      "Too short\n",
      "Too short\n",
      "Too short\n",
      "Too short\n"
     ]
    }
   ],
   "source": [
    "while True:\n",
    "    s = input('Enter something: ')\n",
    "    if s == 'QUIT':\n",
    "        break\n",
    "    if len(s) < 3:\n",
    "        print('Too short')\n",
    "        continue\n",
    "    print('Input is of sufficient length')\n",
    "    "
   ]
  },
  {
   "cell_type": "code",
   "execution_count": 30,
   "metadata": {},
   "outputs": [
    {
     "name": "stdout",
     "output_type": "stream",
     "text": [
      "abcdegf\n"
     ]
    }
   ],
   "source": [
    "word = input('Enter a word: ')\n",
    "reverseWord = word[:-2] + word[-1:-3:-1]\n",
    "print(reverseWord)"
   ]
  },
  {
   "cell_type": "code",
   "execution_count": 38,
   "metadata": {},
   "outputs": [
    {
     "name": "stdout",
     "output_type": "stream",
     "text": [
      "peach peach\n"
     ]
    }
   ],
   "source": [
    "sentence = input('Enter a sentence : ')\n",
    "rword = input('Enter word to replace: ')\n",
    "rrword = input('Enter replacement word: ')\n",
    "words = sentence.split()\n",
    "replaced = []\n",
    "for w in words:\n",
    "    if w == rword:\n",
    "        w = rrword\n",
    "        replaced.append(w)\n",
    "replaced = ' '.join(replaced)\n",
    "print(replaced)"
   ]
  },
  {
   "cell_type": "code",
   "execution_count": 41,
   "metadata": {},
   "outputs": [
    {
     "ename": "TypeError",
     "evalue": "unsupported format string passed to tuple.__format__",
     "output_type": "error",
     "traceback": [
      "\u001b[1;31m---------------------------------------------------------------------------\u001b[0m",
      "\u001b[1;31mTypeError\u001b[0m                                 Traceback (most recent call last)",
      "Cell \u001b[1;32mIn[41], line 5\u001b[0m\n\u001b[0;32m      3\u001b[0m ny \u001b[39m=\u001b[39m \u001b[39meval\u001b[39m(\u001b[39minput\u001b[39m(\u001b[39m'\u001b[39m\u001b[39mEnter a number of years: \u001b[39m\u001b[39m'\u001b[39m))\n\u001b[0;32m      4\u001b[0m pval \u001b[39m=\u001b[39m fval \u001b[39m/\u001b[39m (\u001b[39m1\u001b[39m\u001b[39m+\u001b[39m(ir\u001b[39m/\u001b[39m\u001b[39m100\u001b[39m))\u001b[39m*\u001b[39m\u001b[39m*\u001b[39mny,\u001b[39m2\u001b[39m\n\u001b[1;32m----> 5\u001b[0m \u001b[39mprint\u001b[39m(\u001b[39m'\u001b[39;49m\u001b[39mPresent Value: $\u001b[39;49m\u001b[39m{:,.2f}\u001b[39;49;00m\u001b[39m'\u001b[39;49m\u001b[39m.\u001b[39;49mformat(pval))\n",
      "\u001b[1;31mTypeError\u001b[0m: unsupported format string passed to tuple.__format__"
     ]
    }
   ],
   "source": [
    "fval = eval(input('Enter a future value: '))\n",
    "ir = eval(input('Enter a interest rate: '))\n",
    "ny = eval(input('Enter a number of years: '))\n",
    "pval = fval / (1+(ir/100))**ny,2\n",
    "print('Present Value: ${:,.2f}'.format(pval))"
   ]
  }
 ],
 "metadata": {
  "kernelspec": {
   "display_name": "Python 3",
   "language": "python",
   "name": "python3"
  },
  "language_info": {
   "codemirror_mode": {
    "name": "ipython",
    "version": 3
   },
   "file_extension": ".py",
   "mimetype": "text/x-python",
   "name": "python",
   "nbconvert_exporter": "python",
   "pygments_lexer": "ipython3",
   "version": "3.10.9"
  },
  "orig_nbformat": 4
 },
 "nbformat": 4,
 "nbformat_minor": 2
}
