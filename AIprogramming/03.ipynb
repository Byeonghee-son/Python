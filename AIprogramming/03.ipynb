{
 "cells": [
  {
   "cell_type": "code",
   "execution_count": 9,
   "metadata": {},
   "outputs": [
    {
     "name": "stdout",
     "output_type": "stream",
     "text": [
      "[1, 2, 5, 124, 12, 5, [10], 10]\n"
     ]
    }
   ],
   "source": [
    "nums = [1, 2, 5, 124, 12, 5]\n",
    "nums.append([10,20])  # append() returns None, it modifies the list in-place\n",
    "nums.extend([10,20])  # extend() also modifies the list in-place, but it doesn't return anything\n",
    "\n",
    "print(nums)  # Print the modified list\n"
   ]
  },
  {
   "cell_type": "code",
   "execution_count": 11,
   "metadata": {},
   "outputs": [
    {
     "data": {
      "text/plain": [
       "('monkey', 'camel', ('python', 'elephant', 'penguin'))"
      ]
     },
     "execution_count": 11,
     "metadata": {},
     "output_type": "execute_result"
    }
   ],
   "source": [
    "zoo = ('python', 'elephant', 'penguin')\n",
    "new_zoo = 'monkey', 'camel', zoo\n",
    "new_zoo"
   ]
  },
  {
   "cell_type": "code",
   "execution_count": 14,
   "metadata": {},
   "outputs": [
    {
     "name": "stdout",
     "output_type": "stream",
     "text": [
      "('northeast', 1.1)\n",
      "1.1\n",
      "south\n",
      "3.3\n"
     ]
    }
   ],
   "source": [
    "regions = [('northeast',1.1),('midwest',2.2),('south',3.3),('west',4.4)]\n",
    "print(regions[0])\n",
    "print(regions[0][1])\n",
    "print(regions[2][0])\n",
    "print(regions[2][1])"
   ]
  },
  {
   "cell_type": "code",
   "execution_count": 18,
   "metadata": {},
   "outputs": [
    {
     "name": "stdout",
     "output_type": "stream",
     "text": [
      "Simple Assignment\n",
      "['mango', 'carrot', 'banana']\n",
      "['mango', 'carrot', 'banana']\n",
      "['apple', 'mango', 'carrot', 'banana']\n",
      "2531470864512\n",
      "2531470864512\n",
      "2531470585024\n"
     ]
    }
   ],
   "source": [
    "print('Simple Assignment')\n",
    "shoplist = ['apple','mango','carrot','banana']\n",
    "mylist = shoplist\n",
    "cList = shoplist[:]\n",
    "del mylist[0]\n",
    "print(shoplist)\n",
    "print(mylist)\n",
    "print(cList)\n",
    "print(id(shoplist))\n",
    "print(id(mylist))\n",
    "print(id(cList))"
   ]
  }
 ],
 "metadata": {
  "kernelspec": {
   "display_name": "base",
   "language": "python",
   "name": "python3"
  },
  "language_info": {
   "codemirror_mode": {
    "name": "ipython",
    "version": 3
   },
   "file_extension": ".py",
   "mimetype": "text/x-python",
   "name": "python",
   "nbconvert_exporter": "python",
   "pygments_lexer": "ipython3",
   "version": "3.10.9"
  },
  "orig_nbformat": 4
 },
 "nbformat": 4,
 "nbformat_minor": 2
}
