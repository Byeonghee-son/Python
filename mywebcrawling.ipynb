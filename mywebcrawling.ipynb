{
 "cells": [
  {
   "cell_type": "code",
   "execution_count": null,
   "metadata": {},
   "outputs": [],
   "source": [
    "import requests\n",
    "from bs4 import BeautifulSoup\n",
    "\n",
    "url = 'https://www.rankingdak.com/display/rank/sale'\n",
    "response = requests.get(url)\n",
    "\n",
    "soup = BeautifulSoup(response.text,\"html.parser\")\n",
    "aele = soup.find_all('a', class_='text-elps2')\n",
    "text_list = []\n",
    "for a in aele:\n",
    "    txt = a.text\n",
    "    if txt:\n",
    "        text_list.append(txt)\n",
    "\n",
    "print(text_list)\n"
   ]
  }
 ],
 "metadata": {
  "language_info": {
   "name": "python"
  },
  "orig_nbformat": 4
 },
 "nbformat": 4,
 "nbformat_minor": 2
}
